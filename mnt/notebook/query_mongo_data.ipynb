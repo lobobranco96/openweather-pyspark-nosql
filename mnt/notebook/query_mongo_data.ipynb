{
 "cells": [
  {
   "cell_type": "code",
   "execution_count": 12,
   "id": "28b9cfcd-3335-4886-93e3-ce3a4288f444",
   "metadata": {},
   "outputs": [],
   "source": [
    "from pymongo import MongoClient\n",
    "from pprint import pprint\n",
    "from datetime import datetime\n",
    "from dotenv import load_dotenv\n",
    "import os\n",
    "\n",
    "MONGO_URI = os.getenv(\"MONGO_URI\")\n",
    "# Conecta ao MongoDB\n",
    "client = MongoClient(MONGO_URI)\n",
    "db = client[\"clima\"]  \n",
    "collection = db[\"dados\"]\n"
   ]
  },
  {
   "cell_type": "code",
   "execution_count": 13,
   "id": "158da038-53e6-4740-b362-67f05b23f083",
   "metadata": {},
   "outputs": [
    {
     "name": "stdout",
     "output_type": "stream",
     "text": [
      "['admin', 'clima', 'config', 'local']\n"
     ]
    }
   ],
   "source": [
    "print(client.list_database_names())"
   ]
  },
  {
   "cell_type": "code",
   "execution_count": 14,
   "id": "70a06cf9-05c5-4d7e-9f85-75933f1983c2",
   "metadata": {},
   "outputs": [
    {
     "name": "stdout",
     "output_type": "stream",
     "text": [
      "Último dado de Salvador:\n",
      "{'_id': ObjectId('6833a115b0dac5cafb2a5ef5'),\n",
      " 'cidade': 'Salvador',\n",
      " 'data_coleta': datetime.datetime(2025, 5, 25, 23, 0, 23, 449000),\n",
      " 'data_hora': '2025-05-25 22:57:05',\n",
      " 'descricao_clima': 'céu limpo',\n",
      " 'faixa_temperatura': 'Agradável',\n",
      " 'temperatura': 26.98,\n",
      " 'timestamp': 1748213825,\n",
      " 'umidade': 70,\n",
      " 'velocidade_vento': 6.28}\n"
     ]
    }
   ],
   "source": [
    "cidade = \"Salvador\"\n",
    "ultimo_registro = collection.find({\"cidade\": cidade}).sort(\"data_hora\", -1).limit(1)\n",
    "print(f\"Último dado de {cidade}:\")\n",
    "for doc in ultimo_registro:\n",
    "    pprint(doc)\n"
   ]
  },
  {
   "cell_type": "code",
   "execution_count": 17,
   "id": "6259d9c2-76c1-4882-8a34-d4b01d3cc20d",
   "metadata": {},
   "outputs": [
    {
     "name": "stdout",
     "output_type": "stream",
     "text": [
      "\n",
      "Temperatura média por cidade:\n",
      "{'_id': 'Teresina', 'media_temp': 30.839999999999996}\n",
      "{'_id': 'Macapá', 'media_temp': 29.99}\n",
      "{'_id': 'Palmas', 'media_temp': 28.93}\n",
      "{'_id': 'Rio Branco', 'media_temp': 27.34}\n",
      "{'_id': 'Manaus', 'media_temp': 27.27}\n",
      "{'_id': 'São Luís', 'media_temp': 27.11}\n",
      "{'_id': 'Porto Velho', 'media_temp': 27.03}\n",
      "{'_id': 'Recife', 'media_temp': 27.02}\n",
      "{'_id': 'Salvador', 'media_temp': 26.98}\n",
      "{'_id': 'Maceió', 'media_temp': 26.19}\n",
      "{'_id': 'Natal', 'media_temp': 26.12}\n",
      "{'_id': 'Fortaleza', 'media_temp': 26.07}\n",
      "{'_id': 'Boa Vista', 'media_temp': 25.99}\n",
      "{'_id': 'Aracaju', 'media_temp': 25.97}\n",
      "{'_id': 'Cuiabá', 'media_temp': 25.96}\n",
      "{'_id': 'João Pessoa', 'media_temp': 25.13}\n",
      "{'_id': 'Belém', 'media_temp': 25.02}\n",
      "{'_id': 'Campo Grande', 'media_temp': 23.75}\n",
      "{'_id': 'Vitória', 'media_temp': 22.92}\n",
      "{'_id': 'Rio de Janeiro', 'media_temp': 22.87}\n",
      "{'_id': 'Goiânia', 'media_temp': 22.83}\n",
      "{'_id': 'Brasília', 'media_temp': 21.310000000000002}\n",
      "{'_id': 'Porto Alegre', 'media_temp': 20.452}\n",
      "{'_id': 'Belo Horizonte', 'media_temp': 20.24}\n",
      "{'_id': 'fpolis', 'media_temp': 19.36}\n",
      "{'_id': 'São Paulo', 'media_temp': 19.17}\n",
      "{'_id': 'Curitiba', 'media_temp': 15.95}\n"
     ]
    }
   ],
   "source": [
    "media_temperaturas = collection.aggregate([\n",
    "    {\"$group\": {\n",
    "        \"_id\": \"$cidade\",\n",
    "        \"media_temp\": {\"$avg\": \"$temperatura\"}\n",
    "    }},\n",
    "    {\"$sort\": {\"media_temp\": -1}}\n",
    "])\n",
    "print(\"\\nTemperatura média por cidade:\")\n",
    "for doc in media_temperaturas:\n",
    "    pprint(doc)\n"
   ]
  },
  {
   "cell_type": "code",
   "execution_count": 18,
   "id": "a64df2b7-c1e6-43dc-a71c-4f748eb8edbb",
   "metadata": {},
   "outputs": [
    {
     "name": "stdout",
     "output_type": "stream",
     "text": [
      "\n",
      "Cidades com registro de chuva:\n",
      "{'_id': ObjectId('68339f079c49bda7676ea334'),\n",
      " 'cidade': 'Porto Velho',\n",
      " 'data_coleta': datetime.datetime(2025, 5, 25, 22, 51, 33, 761000),\n",
      " 'data_hora': '2025-05-25 22:31:27',\n",
      " 'descricao_clima': 'chuva fraca',\n",
      " 'faixa_temperatura': 'Agradável',\n",
      " 'temperatura': 27.03,\n",
      " 'timestamp': 1748212287,\n",
      " 'umidade': 69,\n",
      " 'velocidade_vento': 3.6}\n",
      "{'_id': ObjectId('68339f079c49bda7676ea335'),\n",
      " 'cidade': 'São Luís',\n",
      " 'data_coleta': datetime.datetime(2025, 5, 25, 22, 51, 33, 761000),\n",
      " 'data_hora': '2025-05-25 22:31:57',\n",
      " 'descricao_clima': 'chuva fraca',\n",
      " 'faixa_temperatura': 'Agradável',\n",
      " 'temperatura': 27.11,\n",
      " 'timestamp': 1748212317,\n",
      " 'umidade': 94,\n",
      " 'velocidade_vento': 2.57}\n",
      "{'_id': ObjectId('68339f079c49bda7676ea336'),\n",
      " 'cidade': 'São Luís',\n",
      " 'data_coleta': datetime.datetime(2025, 5, 25, 22, 51, 33, 761000),\n",
      " 'data_hora': '2025-05-25 22:35:02',\n",
      " 'descricao_clima': 'chuva fraca',\n",
      " 'faixa_temperatura': 'Agradável',\n",
      " 'temperatura': 27.11,\n",
      " 'timestamp': 1748212502,\n",
      " 'umidade': 94,\n",
      " 'velocidade_vento': 2.57}\n",
      "{'_id': ObjectId('68339f079c49bda7676ea337'),\n",
      " 'cidade': 'Brasília',\n",
      " 'data_coleta': datetime.datetime(2025, 5, 25, 22, 51, 33, 761000),\n",
      " 'data_hora': '2025-05-25 22:31:16',\n",
      " 'descricao_clima': 'chuva fraca',\n",
      " 'faixa_temperatura': 'Agradável',\n",
      " 'temperatura': 21.51,\n",
      " 'timestamp': 1748212276,\n",
      " 'umidade': 56,\n",
      " 'velocidade_vento': 2.57}\n",
      "{'_id': ObjectId('68339f079c49bda7676ea338'),\n",
      " 'cidade': 'Brasília',\n",
      " 'data_coleta': datetime.datetime(2025, 5, 25, 22, 51, 33, 761000),\n",
      " 'data_hora': '2025-05-25 22:36:57',\n",
      " 'descricao_clima': 'chuva fraca',\n",
      " 'faixa_temperatura': 'Agradável',\n",
      " 'temperatura': 21.51,\n",
      " 'timestamp': 1748212617,\n",
      " 'umidade': 56,\n",
      " 'velocidade_vento': 2.57}\n",
      "{'_id': ObjectId('68339f079c49bda7676ea339'),\n",
      " 'cidade': 'Brasília',\n",
      " 'data_coleta': datetime.datetime(2025, 5, 25, 22, 51, 33, 761000),\n",
      " 'data_hora': '2025-05-25 22:46:18',\n",
      " 'descricao_clima': 'chuva fraca',\n",
      " 'faixa_temperatura': 'Agradável',\n",
      " 'temperatura': 21.51,\n",
      " 'timestamp': 1748213178,\n",
      " 'umidade': 56,\n",
      " 'velocidade_vento': 2.57}\n",
      "{'_id': ObjectId('68339f609d0bf231dbe05c4a'),\n",
      " 'cidade': 'Brasília',\n",
      " 'data_coleta': datetime.datetime(2025, 5, 25, 22, 53, 6, 650000),\n",
      " 'data_hora': '2025-05-25 22:46:18',\n",
      " 'descricao_clima': 'chuva fraca',\n",
      " 'faixa_temperatura': 'Agradável',\n",
      " 'temperatura': 21.51,\n",
      " 'timestamp': 1748213178,\n",
      " 'umidade': 56,\n",
      " 'velocidade_vento': 2.57}\n",
      "{'_id': ObjectId('6833a115b0dac5cafb2a5ef3'),\n",
      " 'cidade': 'Brasília',\n",
      " 'data_coleta': datetime.datetime(2025, 5, 25, 23, 0, 23, 449000),\n",
      " 'data_hora': '2025-05-25 22:56:30',\n",
      " 'descricao_clima': 'chuva fraca',\n",
      " 'faixa_temperatura': 'Agradável',\n",
      " 'temperatura': 20.51,\n",
      " 'timestamp': 1748213790,\n",
      " 'umidade': 60,\n",
      " 'velocidade_vento': 3.6}\n"
     ]
    }
   ],
   "source": [
    "chuva = collection.find({\"descricao_clima\": {\"$regex\": \"chuva\", \"$options\": \"i\"}})\n",
    "print(\"\\nCidades com registro de chuva:\")\n",
    "for doc in chuva:\n",
    "    pprint(doc)\n"
   ]
  },
  {
   "cell_type": "code",
   "execution_count": null,
   "id": "654dce35-27e0-49d9-97c4-e5b97dca458e",
   "metadata": {},
   "outputs": [],
   "source": []
  }
 ],
 "metadata": {
  "kernelspec": {
   "display_name": "Python 3 (ipykernel)",
   "language": "python",
   "name": "python3"
  },
  "language_info": {
   "codemirror_mode": {
    "name": "ipython",
    "version": 3
   },
   "file_extension": ".py",
   "mimetype": "text/x-python",
   "name": "python",
   "nbconvert_exporter": "python",
   "pygments_lexer": "ipython3",
   "version": "3.8.20"
  }
 },
 "nbformat": 4,
 "nbformat_minor": 5
}
